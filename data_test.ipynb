{
 "cells": [
  {
   "cell_type": "code",
   "execution_count": 2,
   "metadata": {},
   "outputs": [],
   "source": [
    "import json\n",
    "import numpy as np\n",
    "import random\n",
    "import pickle"
   ]
  },
  {
   "cell_type": "code",
   "execution_count": 19,
   "metadata": {},
   "outputs": [],
   "source": [
    "def sigmoid(x):\n",
    "    return 1 / (1 + np.exp(-x))"
   ]
  },
  {
   "cell_type": "code",
   "execution_count": 20,
   "metadata": {},
   "outputs": [],
   "source": [
    "def to_np(x,per):\n",
    "    x_np = {}\n",
    "    for k,v in x.items():\n",
    "        if per is not None:\n",
    "            if isinstance(per,int):\n",
    "                if per < len(v):\n",
    "                    random.shuffle(v)\n",
    "                    v = v[:per]\n",
    "            elif isinstance(per,float):\n",
    "                v = v[:int(len(v)*per)]\n",
    "        if k =='y':\n",
    "            x_np[k] = sigmoid(np.array(v))\n",
    "        else:\n",
    "            x_np[k] = np.array(v)\n",
    "        \n",
    "    return x_np"
   ]
  },
  {
   "cell_type": "code",
   "execution_count": 23,
   "metadata": {},
   "outputs": [],
   "source": [
    "def load_neo_datasets(file_name):\n",
    "    data = json.load(open(file_name))\n",
    "    train_data = to_np(data['train'],2000)\n",
    "    val_data = to_np(data['test'],500)\n",
    "    test_data = to_np(data['ood'],500)\n",
    "    w = data['w']\n",
    "    return train_data, val_data, test_data,w"
   ]
  },
  {
   "cell_type": "code",
   "execution_count": 22,
   "metadata": {},
   "outputs": [],
   "source": [
    "for dataset_name in ['cross_species','GSM','Norman2019_prep','pachter']:\n",
    "    train_data, val_data, test_data,w = load_neo_datasets(f\"datasets/{dataset_name}_new.json\")\n",
    "    with open(f\"datasets/{dataset_name}.pkl\",\"wb\") as f:\n",
    "        pickle.dump([train_data, val_data, test_data,w],f)"
   ]
  },
  {
   "cell_type": "code",
   "execution_count": 16,
   "metadata": {},
   "outputs": [
    {
     "data": {
      "text/plain": [
       "195.7"
      ]
     },
     "execution_count": 16,
     "metadata": {},
     "output_type": "execute_result"
    }
   ],
   "source": [
    "val_data['x'].shape[0]/20"
   ]
  },
  {
   "cell_type": "code",
   "execution_count": 19,
   "metadata": {},
   "outputs": [],
   "source": [
    "res_val = []\n",
    "res_test = []\n",
    "ptr = ['-','TR','PTR']\n",
    "for dataset_name in ['cross_species','GSM','Norman2019_prep','pachter']:\n",
    "    res_val.append(f\"{dataset_name}\")\n",
    "    res_test.append(f\"{dataset_name}\")\n",
    "    for p in [0,1,2]:\n",
    "        # tmp_val = f\"{dataset_name} & {p}\"\n",
    "        # tmp_test = f\"{dataset_name} & {p}\"\n",
    "        tmp_val = f\"& {ptr[p]}\"\n",
    "        tmp_test = f\"& {ptr[p]}\"\n",
    "        with open(f'saved_models/TransTEE/{dataset_name}/tr10/trb2.0/dob2.0/p{p}0.5result.json','r') as f:\n",
    "            data = json.load(f)\n",
    "        val_dict = data['val']\n",
    "        ood_dict = data['test']\n",
    "        \n",
    "        for met in ['mise','dpe','pe','ate']:\n",
    "            x_mean = np.mean(val_dict[met])\n",
    "            x_var = np.std(val_dict[met])\n",
    "            tmp_str = f\"$ {x_mean:.4f} \\pm {x_var:.4f} $\"\n",
    "            tmp_val=tmp_val+\" & \"+tmp_str\n",
    "        for met in ['mise','dpe','pe','ate']:\n",
    "            x_mean = np.mean(ood_dict[met])\n",
    "            x_var = np.std(ood_dict[met])\n",
    "            tmp_str = f\"$ {x_mean:.4f} \\pm {x_var:.4f} $\"\n",
    "            tmp_test=tmp_test+\" & \"+tmp_str\n",
    "        tmp_val += \"\\\\\\\\\"\n",
    "        tmp_test += \"\\\\\\\\\"\n",
    "        res_val.append(tmp_val)\n",
    "        res_test.append(tmp_test)"
   ]
  },
  {
   "cell_type": "code",
   "execution_count": 20,
   "metadata": {},
   "outputs": [],
   "source": [
    "with open('latex.txt','w') as f:\n",
    "    for r in res_val:\n",
    "        f.write(r+'\\n')\n",
    "    for r in res_test:\n",
    "        f.write(r+'\\n')"
   ]
  },
  {
   "cell_type": "code",
   "execution_count": null,
   "metadata": {},
   "outputs": [],
   "source": []
  },
  {
   "cell_type": "code",
   "execution_count": null,
   "metadata": {},
   "outputs": [],
   "source": []
  }
 ],
 "metadata": {
  "interpreter": {
   "hash": "aea259642affc340c82bb2b1c87bec404e4367675c451681a2c5ad59ebfd45f8"
  },
  "kernelspec": {
   "display_name": "Python 3.6.13 ('dosage')",
   "language": "python",
   "name": "python3"
  },
  "language_info": {
   "codemirror_mode": {
    "name": "ipython",
    "version": 3
   },
   "file_extension": ".py",
   "mimetype": "text/x-python",
   "name": "python",
   "nbconvert_exporter": "python",
   "pygments_lexer": "ipython3",
   "version": "3.6.13"
  },
  "orig_nbformat": 4
 },
 "nbformat": 4,
 "nbformat_minor": 2
}
